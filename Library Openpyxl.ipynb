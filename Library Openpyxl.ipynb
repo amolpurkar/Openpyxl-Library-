{
 "cells": [
  {
   "cell_type": "code",
   "execution_count": 3,
   "id": "9d61e0fb",
   "metadata": {},
   "outputs": [],
   "source": [
    "from openpyxl import Workbook"
   ]
  },
  {
   "cell_type": "code",
   "execution_count": 4,
   "id": "0e3f6305",
   "metadata": {},
   "outputs": [],
   "source": [
    "wb=Workbook()"
   ]
  },
  {
   "cell_type": "code",
   "execution_count": 6,
   "id": "af9ef134",
   "metadata": {},
   "outputs": [],
   "source": [
    "ws=wb.active"
   ]
  },
  {
   "cell_type": "code",
   "execution_count": 10,
   "id": "f0ce18da",
   "metadata": {},
   "outputs": [],
   "source": [
    "ws['A1']='Hello'\n",
    "ws['A2']='World'\n"
   ]
  },
  {
   "cell_type": "code",
   "execution_count": 11,
   "id": "c8b94c9a",
   "metadata": {},
   "outputs": [],
   "source": [
    "wb.save(r\"C:\\Users\\Amol\\Desktop\\Data Run time\\test.xlsx\")"
   ]
  },
  {
   "cell_type": "code",
   "execution_count": null,
   "id": "ffa97608",
   "metadata": {},
   "outputs": [],
   "source": []
  }
 ],
 "metadata": {
  "kernelspec": {
   "display_name": "Python 3 (ipykernel)",
   "language": "python",
   "name": "python3"
  },
  "language_info": {
   "codemirror_mode": {
    "name": "ipython",
    "version": 3
   },
   "file_extension": ".py",
   "mimetype": "text/x-python",
   "name": "python",
   "nbconvert_exporter": "python",
   "pygments_lexer": "ipython3",
   "version": "3.11.7"
  }
 },
 "nbformat": 4,
 "nbformat_minor": 5
}
